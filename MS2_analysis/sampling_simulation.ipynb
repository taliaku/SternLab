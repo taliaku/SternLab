{
 "cells": [
  {
   "cell_type": "code",
   "execution_count": 24,
   "metadata": {},
   "outputs": [],
   "source": [
    "import random\n",
    "import matplotlib.pyplot as plt\n",
    "import seaborn as sns\n",
    "import statistics\n"
   ]
  },
  {
   "cell_type": "code",
   "execution_count": 4,
   "metadata": {},
   "outputs": [],
   "source": [
    "def sample_once(big_sample_size, fraction_to_test, small_sample_size):\n",
    "    big_group = (round(big_sample_size * (1 - fraction_to_test)) * [0]) + (round(big_sample_size * fraction_to_test) * [1])\n",
    "    small_group = random.sample(big_group, small_sample_size)\n",
    "    fraction_found = small_group.count(1) / len(small_group)\n",
    "    return fraction_found"
   ]
  },
  {
   "cell_type": "code",
   "execution_count": 43,
   "metadata": {},
   "outputs": [],
   "source": [
    "def sample_many_times(big_sample_size, fraction_to_test, small_sample_size, frequency_to_test, permutation_num=10000):\n",
    "    results = []\n",
    "    for i in range(permutation_num):\n",
    "        results.append(sample_once(big_sample_size, fraction_to_test, small_sample_size))\n",
    "    sns.violinplot(results)\n",
    "    if frequency_to_test < statistics.median(results):\n",
    "        return len([i for i in results if i < frequency_to_test]) / len(results)\n",
    "    else:\n",
    "        return len([i for i in results if i > frequency_to_test]) / len(results)\n",
    "    "
   ]
  },
  {
   "cell_type": "code",
   "execution_count": 51,
   "metadata": {},
   "outputs": [
    {
     "data": {
      "text/plain": [
       "0.0001"
      ]
     },
     "execution_count": 51,
     "metadata": {},
     "output_type": "execute_result"
    },
    {
     "data": {
      "image/png": "[encoded data removed]",
      "text/plain": [
       "<Figure size 432x288 with 1 Axes>"
      ]
     },
     "metadata": {
      "needs_background": "light"
     },
     "output_type": "display_data"
    }
   ],
   "source": [
    "sample_many_times(31777,0.0437,300, 0.09)"
   ]
  },
  {
   "cell_type": "code",
   "execution_count": null,
   "metadata": {},
   "outputs": [],
   "source": []
  },
  {
   "cell_type": "code",
   "execution_count": null,
   "metadata": {},
   "outputs": [],
   "source": []
  }
 ],
 "metadata": {
  "kernelspec": {
   "display_name": "Python 3",
   "language": "python",
   "name": "python3"
  },
  "language_info": {
   "codemirror_mode": {
    "name": "ipython",
    "version": 3
   },
   "file_extension": ".py",
   "mimetype": "text/x-python",
   "name": "python",
   "nbconvert_exporter": "python",
   "pygments_lexer": "ipython3",
   "version": "3.7.3"
  }
 },
 "nbformat": 4,
 "nbformat_minor": 2
}
